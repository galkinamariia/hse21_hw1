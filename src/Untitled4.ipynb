{
  "nbformat": 4,
  "nbformat_minor": 0,
  "metadata": {
    "colab": {
      "name": "Untitled4.ipynb",
      "provenance": []
    },
    "kernelspec": {
      "name": "python3",
      "display_name": "Python 3"
    },
    "language_info": {
      "name": "python"
    }
  },
  "cells": [
    {
      "cell_type": "code",
      "metadata": {
        "colab": {
          "base_uri": "https://localhost:8080/"
        },
        "id": "mgM7qgLZSuL9",
        "outputId": "4e1ac87a-1d78-4d8b-fd27-43ec0cb6992a"
      },
      "source": [
        "import re\n",
        "\n",
        "array_contig = []\n",
        "counter = 0\n",
        "with open(\"Poil_contig.fa\") as f:\n",
        "    for line in f:\n",
        "        if line[0] == \">\":\n",
        "            array_contig.append(int(line.split(\"_\")[1][3:]))\n",
        "array_contig.sort(reverse=True)\n",
        "total_contig_length = sum(array_contig)\n",
        "total_contig_num = len(array_contig)\n",
        "max_contig = array_contig[0]\n",
        "for i in array_contig:\n",
        "    counter += i\n",
        "    if counter >= total_contig_length // 2:\n",
        "        n50 = i\n",
        "        break\n",
        "print(\"Итоговое количество контигов: {}, их суммарная длина: {}, длина самого длинного контига: {}, N50: {}\".format(total_contig_num, total_contig_length, max_contig, n50))\n",
        "\n",
        "array_scaffold = []\n",
        "counter = 0\n",
        "with open(\"Poil_scaffold.fa\") as f:\n",
        "    for line in f:\n",
        "        if line[0] == \">\":\n",
        "            array_scaffold.append(int(line.split(\"_\")[1][3:]))\n",
        "array_scaffold.sort(reverse=True)\n",
        "total_scaffold_length = sum(array_scaffold)\n",
        "total_scaffold_num = len(array_scaffold)\n",
        "max_scaffold = array_scaffold[0]\n",
        "for i in array_scaffold:\n",
        "    counter += i\n",
        "    if counter >= total_scaffold_length // 2:\n",
        "        n50 = i\n",
        "        break\n",
        "print(\"Итоговое количество скаффлдов: {}, их суммарная длина: {}, длина самого длинного скаффолда: {}, N50: {}\".format(total_scaffold_num, total_scaffold_length, max_scaffold, n50))\n",
        "\n",
        "with open(\"longest.fa\") as f:\n",
        "    all = f.read()\n",
        "    nnn = re.findall('N{1,}', all)\n",
        "    print(\"Итовое количество гэпов (not gap closed): {}, их суммарная длина: {}\".format(len(nnn), sum([len(i) for i in nnn])))\n",
        "\n",
        "with open(\"longest_closed.fa\") as f:\n",
        "    all = f.read()\n",
        "    nnn = re.findall('N{1,}', all)\n",
        "    print(\"Итоговое количество гэпов (gap closed): {}, их суммарная длина: {}\".format(len(nnn), sum([len(i) for i in nnn])))"
      ],
      "execution_count": 6,
      "outputs": [
        {
          "output_type": "stream",
          "name": "stdout",
          "text": [
            "Итоговое количество контигов: 616, их суммарная длина: 3925682, длина самого длинного контига: 179306, N50: 51588\n",
            "Итоговое количество скаффлдов: 73, их суммарная длина: 3875850, длина самого длинного скаффолда: 3834986, N50: 3834986\n",
            "Итовое количество гэпов (not gap closed): 62, их суммарная длина: 6086\n",
            "Итоговое количество гэпов (gap closed): 8, их суммарная длина: 1593\n"
          ]
        }
      ]
    }
  ]
}